{
  "cells": [
    {
      "cell_type": "code",
      "source": [
        "import pandas as pd\n",
        "from functools import reduce"
      ],
      "metadata": {
        "id": "GZyzT5_JREz_"
      },
      "execution_count": 10,
      "outputs": []
    },
    {
      "cell_type": "code",
      "source": [
        "xl = pd.ExcelFile('physa_microplastics_raw.xlsx')"
      ],
      "metadata": {
        "id": "eZ-lDwiSRvKu"
      },
      "execution_count": 11,
      "outputs": []
    },
    {
      "cell_type": "code",
      "source": [
        "caps   = xl.parse('TOTAL EGG CAPSULE')\n",
        "hatch  = xl.parse('HATCHING SUCCESS')\n",
        "speed  = xl.parse('LOCOMOTION')\n",
        "reprod = xl.parse('REPRODUCTION')"
      ],
      "metadata": {
        "id": "-sNg5DY2RxNd"
      },
      "execution_count": 28,
      "outputs": []
    },
    {
      "cell_type": "code",
      "source": [
        "speed = speed.rename(columns={'no.of days': 'days'})\n",
        "\n",
        "# Helper function to melt data into long format\n",
        "def melt_sheet(df, id_vars, value_name):\n",
        "    long = df.melt(id_vars=id_vars,\n",
        "                   var_name='group',\n",
        "                   value_name=value_name)\n",
        "    long['dose'] = (long['group']\n",
        "                    .str.extract(r'(\\d+)')   # extract 20, 30, etc.\n",
        "                    .fillna(0)               # control group → 0\n",
        "                    .astype(int))\n",
        "    return long.drop(columns='group')"
      ],
      "metadata": {
        "id": "n8K8wBcAR6ku"
      },
      "execution_count": 13,
      "outputs": []
    },
    {
      "cell_type": "code",
      "source": [
        "caps_long   = melt_sheet(caps,   id_vars=['days'], value_name='capsules')\n",
        "speed_long  = melt_sheet(speed,  id_vars=['days'], value_name='speed')\n",
        "hatch_long  = melt_sheet(hatch,  id_vars=[],       value_name='hatch_ratio')\n",
        "reprod_long = melt_sheet(reprod, id_vars=[],       value_name='juveniles')"
      ],
      "metadata": {
        "id": "-RLQK84jUYp3"
      },
      "execution_count": 14,
      "outputs": []
    },
    {
      "cell_type": "code",
      "source": [
        "hatch_long['days'] = range(1, len(hatch_long) + 1)\n",
        "reprod_long['days'] = range(1, len(reprod_long) + 1)"
      ],
      "metadata": {
        "id": "dwkxm_lWR-km"
      },
      "execution_count": 15,
      "outputs": []
    },
    {
      "cell_type": "code",
      "source": [
        "dfs = [caps_long, speed_long, hatch_long, reprod_long]\n",
        "tidy = reduce(lambda left, right: pd.merge(left, right, on=['dose', 'days'], how='outer'), dfs)"
      ],
      "metadata": {
        "id": "FZn1uUb5UbX2"
      },
      "execution_count": 16,
      "outputs": []
    },
    {
      "cell_type": "code",
      "source": [
        "tidy.to_csv('physa_microplastics_tidy.csv', index=False)"
      ],
      "metadata": {
        "id": "VtTHYgdnTdLO"
      },
      "execution_count": 17,
      "outputs": []
    }
  ],
  "metadata": {
    "colab": {
      "provenance": []
    },
    "kernelspec": {
      "display_name": "Python 3",
      "name": "python3"
    },
    "language_info": {
      "name": "python"
    }
  },
  "nbformat": 4,
  "nbformat_minor": 0
}